{
 "cells": [
  {
   "cell_type": "markdown",
   "metadata": {},
   "source": [
    "# Index based strategy\n",
    "\n",
    "In this strategy we will use the index data to build output matrix."
   ]
  },
  {
   "cell_type": "code",
   "execution_count": null,
   "metadata": {},
   "outputs": [],
   "source": [
    "# Import basic libraries for manipulating data.\n",
    "\n",
    "# Please refer to xarray.pydata.org for xarray documentation.\n",
    "\n",
    "# xarray works optimally with N-dimensional datasets in Python\n",
    "# and is well suited for financial datasets with labels \"time\",\n",
    "# \"field\" and \"asset\". xarray data structures can also be easily\n",
    "# converted to pandas dataframes.\n",
    "\n",
    "import xarray as xr\n",
    "\n",
    "import numpy as np\n",
    "import pandas as pd\n",
    "\n",
    "# Import quantnet libraries.\n",
    "\n",
    "import qnt.data as qndata          # data loading and manipulation\n",
    "import qnt.stepper as qnstepper    # strategy definition\n",
    "import qnt.stats as qnstats        # key statistics\n",
    "import qnt.graph as qngraph        # graphical tools\n",
    "import qnt.forward_looking as qnfl # forward looking checking\n",
    "import qnt.ta as qnta\n",
    "\n",
    "# display function for fancy displaying:\n",
    "from IPython.display import display\n",
    "\n",
    "import datetime as dt"
   ]
  },
  {
   "cell_type": "code",
   "execution_count": null,
   "metadata": {},
   "outputs": [],
   "source": [
    "# Load all available asset names since given date.\n",
    "\n",
    "assets = qndata.load_assets(min_date=\"2010-01-01\")\n",
    "\n",
    "assets_names = [i[\"id\"] for i in assets]\n",
    "\n",
    "# Load all available data since given date.\n",
    "\n",
    "# It is possible to set a max_date in the call in order to\n",
    "# develop the system on a limited in-sample period and later\n",
    "# test the system on unseen data after max_date.\n",
    "\n",
    "# A submission will be accepted only if no max_date is set,\n",
    "# as submissions will be evaluated on live data on a daily basis.\n",
    "\n",
    "data = qndata.load_data(tail=dt.timedelta(days=5*365),\n",
    "                        dims=(\"time\", \"field\", \"asset\"),\n",
    "                        assets=assets_names,\n",
    "                        forward_order=True)"
   ]
  },
  {
   "cell_type": "markdown",
   "metadata": {},
   "source": [
    "Now load the index data. We will use RUSSEL-2000 (RUT)."
   ]
  },
  {
   "cell_type": "code",
   "execution_count": null,
   "metadata": {},
   "outputs": [],
   "source": [
    "# Load available index list (just for demo)\n",
    "index_list = qndata.load_index_list()\n",
    "display(\"available indexes\", index_list)\n",
    "\n",
    "index_name = 'RUT'\n",
    "\n",
    "index_data = qndata.load_index_data(ids=[index_name], tail=dt.timedelta(days=5*365), forward_order=True)\n",
    "display(\"index data\", index_data.to_pandas())\n",
    "\n",
    "index_data = index_data.sel(asset=index_name)\n",
    "# align index data, this is necessary for further calculations\n",
    "index_data = xr.align(index_data, data.isel(field=0), join='right')[0].ffill('time')"
   ]
  },
  {
   "cell_type": "markdown",
   "metadata": {},
   "source": [
    "We will use BETA coefficient as risk factor:"
   ]
  },
  {
   "cell_type": "code",
   "execution_count": null,
   "metadata": {},
   "outputs": [],
   "source": [
    "def beta(prices, index, periods=252, dim='time'):\n",
    "    result = prices.copy(True)\n",
    "    for a in prices.asset.values:\n",
    "        result.loc[{\"asset\":a}] = qnta.beta(prices.loc[{\"asset\":a}], index, periods)\n",
    "    return result"
   ]
  },
  {
   "cell_type": "markdown",
   "metadata": {},
   "source": [
    "Now, let's define the strategy:"
   ]
  },
  {
   "cell_type": "code",
   "execution_count": null,
   "metadata": {},
   "outputs": [],
   "source": [
    "close = data.sel(field='close')\n",
    "\n",
    "assets_beta = beta(close, index_data, 250)\n",
    "\n",
    "roc = qnta.sroc(close, 50, 250)\n",
    "\n",
    "output = data.loc[:,\"is_liquid\",:].where(roc > 0).where(assets_beta < 0.7)\n",
    "output /= output.sum('asset')\n",
    "output = xr.where(output > 0.05, 0.05, output)\n",
    "\n",
    "# display stats tail\n",
    "stat = qnstats.calc_stat(data, output)\n",
    "display(stat.to_pandas().tail())"
   ]
  },
  {
   "cell_type": "markdown",
   "metadata": {},
   "source": [
    "# Statistics"
   ]
  },
  {
   "cell_type": "code",
   "execution_count": null,
   "metadata": {},
   "outputs": [],
   "source": [
    "# Calculate statistics on a rolling basis.\n",
    "\n",
    "# Transactions are punished with slippage equal to a given\n",
    "# fraction of ATR14 (read more about slippage in our full\n",
    "# Strategy Buy and Hold template). We evaluate submissions\n",
    "# using 5% of ATR14 for slippage.\n",
    "\n",
    "# Mean return, volatility and Sharpe ratio are computed on a\n",
    "# rolling basis using a lookback period of 3 years.\n",
    "\n",
    "stat = qnstats.calc_stat(data, output)\n",
    "\n",
    "display(stat.to_pandas().tail())"
   ]
  },
  {
   "cell_type": "code",
   "execution_count": null,
   "metadata": {},
   "outputs": [],
   "source": [
    "def print_stat(stat):\n",
    "    \"\"\"Prints selected statistical key indicators:\n",
    "       - the global Sharpe ratio of the strategy;\n",
    "       - the global mean profit;\n",
    "       - the global volatility;\n",
    "       - the maximum drawdown.\n",
    "\n",
    "       Note that Sharpe ratio, mean profit and volatility\n",
    "       apply to  max simulation period, and not to the\n",
    "       rolling basis of 3 years.\n",
    "    \"\"\"\n",
    "\n",
    "    days = len(stat.coords[\"time\"])\n",
    "    \n",
    "    returns = stat.loc[:, \"relative_return\"]\n",
    "\n",
    "    equity = stat.loc[:, \"equity\"]\n",
    "    \n",
    "    sharpe_ratio = qnstats.calc_sharpe_ratio_annualized(\n",
    "        returns,\n",
    "        max_periods=days,\n",
    "        min_periods=days).to_pandas().values[-1]\n",
    "\n",
    "    profit = (qnstats.calc_mean_return_annualized(\n",
    "        returns,\n",
    "        max_periods=days,\n",
    "        min_periods=days).to_pandas().values[-1])*100.0\n",
    "\n",
    "    volatility = (qnstats.calc_volatility_annualized(\n",
    "        returns,\n",
    "        max_periods=days,\n",
    "        min_periods=days).to_pandas().values[-1])*100.0\n",
    "\n",
    "    max_ddown = (qnstats.calc_max_drawdown(\n",
    "        qnstats.calc_underwater(equity)).to_pandas().values[-1])*100.0\n",
    "\n",
    "    print(\"Sharpe Ratio         : \", \"{0:.3f}\".format(sharpe_ratio))\n",
    "    print(\"Mean Return [%]      : \", \"{0:.3f}\".format(profit))\n",
    "    print(\"Volatility [%]       : \", \"{0:.3f}\".format(volatility))\n",
    "    print(\"Maximum Drawdown [%] : \", \"{0:.3f}\".format(-max_ddown))\n",
    "\n",
    "print_stat(stat)"
   ]
  },
  {
   "cell_type": "code",
   "execution_count": null,
   "metadata": {},
   "outputs": [],
   "source": [
    "# show plot with profit and losses:\n",
    "performance = stat.to_pandas()[\"equity\"]\n",
    "qngraph.make_plot_filled(performance.index, performance, name=\"PnL (Equity)\", type=\"log\")"
   ]
  },
  {
   "cell_type": "code",
   "execution_count": null,
   "metadata": {},
   "outputs": [],
   "source": [
    "# show underwater chart:\n",
    "UWchart = stat.to_pandas()[\"underwater\"]\n",
    "qngraph.make_plot_filled(UWchart.index, UWchart, color=\"darkred\", name=\"Underwater Chart\", range_max=0)"
   ]
  },
  {
   "cell_type": "code",
   "execution_count": null,
   "metadata": {},
   "outputs": [],
   "source": [
    "# show rolling Sharpe ratio on a 3-year basis:\n",
    "SRchart = stat.to_pandas()[\"sharpe_ratio\"].iloc[(252*3):]\n",
    "qngraph.make_plot_filled(SRchart.index, SRchart, color=\"#F442C5\", name=\"Rolling SR\")"
   ]
  },
  {
   "cell_type": "code",
   "execution_count": null,
   "metadata": {
    "scrolled": true
   },
   "outputs": [],
   "source": [
    "# show bias chart:\n",
    "biaschart = stat.to_pandas()[\"bias\"]\n",
    "qngraph.make_plot_filled(biaschart.index, biaschart, color=\"#5A6351\", name=\"Bias Chart\")"
   ]
  },
  {
   "cell_type": "markdown",
   "metadata": {},
   "source": [
    "## Checks"
   ]
  },
  {
   "cell_type": "code",
   "execution_count": null,
   "metadata": {},
   "outputs": [],
   "source": [
    "# correlation check\n",
    "# your strategy should not correlate with other strategies before submission\n",
    "qnstats.print_correlation(output, data)"
   ]
  },
  {
   "cell_type": "markdown",
   "metadata": {},
   "source": [
    "# Write output"
   ]
  },
  {
   "cell_type": "code",
   "execution_count": null,
   "metadata": {},
   "outputs": [],
   "source": [
    "# Finally, we write the last mandatory step for submission,\n",
    "# namely writing output to file:\n",
    "\n",
    "qndata.write_output(output)"
   ]
  },
  {
   "cell_type": "markdown",
   "metadata": {},
   "source": [
    "At this stage code is ready for submission. Just click on the submission button in your account page and we will evaluate your strategy live on our servers!"
   ]
  }
 ],
 "metadata": {
  "kernelspec": {
   "display_name": "Python 3",
   "language": "python",
   "name": "python3"
  },
  "language_info": {
   "codemirror_mode": {
    "name": "ipython",
    "version": 3
   },
   "file_extension": ".py",
   "mimetype": "text/x-python",
   "name": "python",
   "nbconvert_exporter": "python",
   "pygments_lexer": "ipython3",
   "version": "3.7.6"
  }
 },
 "nbformat": 4,
 "nbformat_minor": 2
}
